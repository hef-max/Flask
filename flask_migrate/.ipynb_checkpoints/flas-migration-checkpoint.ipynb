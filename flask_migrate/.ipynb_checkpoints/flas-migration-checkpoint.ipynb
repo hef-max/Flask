{
 "cells": [
  {
   "cell_type": "markdown",
   "metadata": {
    "id": "CLeG2-ZHKI5C"
   },
   "source": [
    "<h1>Flask-Migrate</h1>\n",
    "\n",
    "<p>Flask-Migrate adalah ekstensi yang menangani migrasi database SQLAlchemy untuk aplikasi Flask menggunakan Alembic. Operasi database tersedia melalui antarmuka baris perintah Flask.</p>\n",
    "\n",
    "<h2>Mengapa Menggunakan Flask-Migrate vs. Alembic Secara Langsung?</h2>\n",
    "\n",
    "<p>Flask-Migrate adalah ekstensi yang mengonfigurasi Alembic dengan cara yang tepat untuk bekerja dengan aplikasi Flask dan Flask-SQLAlchemy Anda. Dalam hal migrasi database yang sebenarnya, semuanya ditangani oleh Alembic sehingga Anda mendapatkan fungsi yang persis sama.</p>"
   ]
  },
  {
   "cell_type": "markdown",
   "metadata": {
    "id": "e_qtxhi1WMVk"
   },
   "source": [
    "<h3>Instalasi</h3>\n",
    "\n",
    "<p>Install Flask-Migrate with pip:</p>"
   ]
  },
  {
   "cell_type": "code",
   "execution_count": null,
   "metadata": {
    "id": "jqIb5rZ6WScS",
    "vscode": {
     "languageId": "python"
    }
   },
   "outputs": [],
   "source": [
    "\n",
    "%pip install Flask-Migrate\n"
   ]
  },
  {
   "cell_type": "markdown",
   "metadata": {
    "id": "wDskuVRWKZl3"
   },
   "source": [
    "<h3>Library</h3>\n",
    "\n",
    "<p>Library yang dibutuhkan</p>"
   ]
  },
  {
   "cell_type": "code",
   "execution_count": null,
   "metadata": {
    "id": "qqOAS6lTKRDb",
    "vscode": {
     "languageId": "python"
    }
   },
   "outputs": [],
   "source": [
    "\n",
    "from flask import Flask\n",
    "from flask_sqlalchemy import SQLAlchemy\n",
    "from flask_migrate import Migrate\n"
   ]
  },
  {
   "cell_type": "markdown",
   "metadata": {
    "id": "cuQKvLBoKfBe"
   },
   "source": [
    "<h3>Code</h3>\n",
    "\n",
    "Contoh untuk codenya"
   ]
  },
  {
   "cell_type": "code",
   "execution_count": null,
   "metadata": {
    "id": "ntWUXH0sKmWU",
    "vscode": {
     "languageId": "python"
    }
   },
   "outputs": [],
   "source": [
    "\n",
    "app = Flask(__name__)\n",
    "\n",
    "## ini untuk membuat database\n",
    "app.config['SQLALCHEMY_DATABASE_URI'] = 'sqlite:///app.db'\n",
    "\n",
    "db = SQLAlchemy(app)\n",
    "migrate = Migrate(app, db)\n",
    "\n",
    "class User(db.Model): #nama tabel yang dibuat\n",
    "    id = db.Column(db.Integer, primary_key=True) #atribut/kolom id dengan type data (INT) dan PRIMARY KEY\n",
    "    name = db.Column(db.String(128)) #atribut/kolom nama dengan type data (String) panjang 128\n",
    "\n",
    "    def __repr__(self):\n",
    "        return f\"<User: {self.name}>\"\n"
   ]
  },
  {
   "cell_type": "markdown",
   "metadata": {
    "id": "vGxVLLdmXKfL"
   },
   "source": [
    "Dengan aplikasi di atas Anda dapat membuat repositori migrasi dengan perintah berikut:"
   ]
  },
  {
   "cell_type": "code",
   "execution_count": null,
   "metadata": {
    "id": "cJfMAKWvXO53",
    "vscode": {
     "languageId": "python"
    }
   },
   "outputs": [],
   "source": [
    "\n",
    "%flask db init\n"
   ]
  },
  {
   "cell_type": "markdown",
   "metadata": {
    "id": "Wlp7wdenXZlY"
   },
   "source": [
    "<p>Ini akan menambahkan folder migrasi ke aplikasi Anda. Konten folder ini perlu ditambahkan ke kontrol versi bersama dengan file sumber Anda yang lain.\n",
    "\n",
    "Anda kemudian dapat membuat migrasi awal:</p>"
   ]
  },
  {
   "cell_type": "code",
   "execution_count": null,
   "metadata": {
    "id": "TKkiNidOXV15",
    "vscode": {
     "languageId": "python"
    }
   },
   "outputs": [],
   "source": [
    "\n",
    "%flask db migrate -m \"Initial migration.\"\n"
   ]
  },
  {
   "cell_type": "markdown",
   "metadata": {
    "id": "DM463y_bXtHG"
   },
   "source": [
    "<p>Kemudian Anda dapat menerapkan migrasi ke database:</p>"
   ]
  },
  {
   "cell_type": "code",
   "execution_count": null,
   "metadata": {
    "id": "MpyrV21wXmHy",
    "vscode": {
     "languageId": "python"
    }
   },
   "outputs": [],
   "source": [
    "\n",
    "%flask db upgrade\n"
   ]
  },
  {
   "cell_type": "markdown",
   "metadata": {
    "id": "sGW7NrI8YAm5"
   },
   "source": [
    "<h3>Eksekusi</h3>\n",
    "\n",
    "\n",
    "<img src=\"image/foto1.png\"/>"
   ]
  },
  {
   "cell_type": "markdown",
   "metadata": {},
   "source": [
    "<h3>DB Browser (SQLite)</h3>\n",
    "\n",
    "\n",
    "<img src=\"image/foto2.png\">"
   ]
  },
  {
   "cell_type": "markdown",
   "metadata": {},
   "source": [
    "<h3> Contoh untuk sqlite di python </h3>"
   ]
  },
  {
   "cell_type": "code",
   "execution_count": null,
   "metadata": {
    "vscode": {
     "languageId": "python"
    }
   },
   "outputs": [],
   "source": [
    "\n",
    "app = Flask(__name__)\n",
    "\n",
    "## ini untuk membuat database\n",
    "app.config['SQLALCHEMY_DATABASE_URI'] = 'sqlite:///app.db'\n",
    "\n",
    "db = SQLAlchemy(app)\n",
    "migrate = Migrate(app, db)\n",
    "\n",
    "class User(db.Model): #nama tabel yang dibuat\n",
    "    id = db.Column(db.Integer, primary_key=True) #atribut\t\n",
    "    name = db.Column(db.String(128)) #atribut\n",
    "\n",
    "    def __repr__(self):\n",
    "        return f\"<User: {self.name}>\"\n",
    "\n",
    "########################### code di bawah\n",
    "\n",
    "import sqlite3\n",
    "\n",
    "conn = sqlite3.connect('app.db')\n",
    "cursor = conn.cursor()\n",
    "\n",
    "def create():\n",
    "    cursor.execute(\"INSERT INTO `user` (name) VALUES ('nama kamu');\")\n",
    "    return conn.commit()\n",
    "\n",
    "def read():\n",
    "    cursor.execute(\"SELECT * FROM `user`;\")\n",
    "    for x in cursor.fetchall():\n",
    "        print(x)\n"
   ]
  },
  {
   "cell_type": "markdown",
   "metadata": {},
   "source": [
    "<p>Library yang dibutuhkan untuk kode di atas</p>"
   ]
  },
  {
   "cell_type": "code",
   "execution_count": null,
   "metadata": {
    "vscode": {
     "languageId": "python"
    }
   },
   "outputs": [],
   "source": [
    "\n",
    "import sqlite3\n"
   ]
  },
  {
   "cell_type": "markdown",
   "metadata": {},
   "source": [
    "<h4>Hasil</h4>\n",
    "\n",
    "<img src=\"image/foto3.png\">"
   ]
  }
 ],
 "metadata": {
  "colab": {
   "collapsed_sections": [],
   "name": "Selamat Datang di Colaboratory",
   "provenance": [],
   "toc_visible": true
  },
  "kernelspec": {
   "display_name": "Python 3",
   "language": "python",
   "name": "python3"
  },
  "language_info": {
   "codemirror_mode": {
    "name": "ipython",
    "version": 3
   },
   "file_extension": ".py",
   "mimetype": "text/x-python",
   "name": "python",
   "nbconvert_exporter": "python",
   "pygments_lexer": "ipython3",
   "version": "3.8.8"
  }
 },
 "nbformat": 4,
 "nbformat_minor": 1
}
